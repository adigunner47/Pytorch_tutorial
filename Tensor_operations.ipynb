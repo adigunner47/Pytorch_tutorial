{
 "cells": [
  {
   "cell_type": "code",
   "execution_count": 1,
   "metadata": {},
   "outputs": [
    {
     "name": "stdout",
     "output_type": "stream",
     "text": [
      "Requirement already satisfied: torch in c:\\users\\aditya\\miniforge3\\envs\\ai\\lib\\site-packages (2.5.1)\n",
      "Requirement already satisfied: filelock in c:\\users\\aditya\\miniforge3\\envs\\ai\\lib\\site-packages (from torch) (3.13.1)\n",
      "Requirement already satisfied: typing-extensions>=4.8.0 in c:\\users\\aditya\\miniforge3\\envs\\ai\\lib\\site-packages (from torch) (4.11.0)\n",
      "Requirement already satisfied: networkx in c:\\users\\aditya\\miniforge3\\envs\\ai\\lib\\site-packages (from torch) (3.4.2)\n",
      "Requirement already satisfied: jinja2 in c:\\users\\aditya\\miniforge3\\envs\\ai\\lib\\site-packages (from torch) (3.1.4)\n",
      "Requirement already satisfied: fsspec in c:\\users\\aditya\\miniforge3\\envs\\ai\\lib\\site-packages (from torch) (2024.3.1)\n",
      "Requirement already satisfied: setuptools in c:\\users\\aditya\\miniforge3\\envs\\ai\\lib\\site-packages (from torch) (75.1.0)\n",
      "Requirement already satisfied: sympy==1.13.1 in c:\\users\\aditya\\miniforge3\\envs\\ai\\lib\\site-packages (from torch) (1.13.1)\n",
      "Requirement already satisfied: mpmath<1.4,>=1.1.0 in c:\\users\\aditya\\miniforge3\\envs\\ai\\lib\\site-packages (from sympy==1.13.1->torch) (1.3.0)\n",
      "Requirement already satisfied: MarkupSafe>=2.0 in c:\\users\\aditya\\miniforge3\\envs\\ai\\lib\\site-packages (from jinja2->torch) (2.1.3)\n"
     ]
    }
   ],
   "source": [
    "!pip install torch"
   ]
  },
  {
   "cell_type": "code",
   "execution_count": null,
   "metadata": {},
   "outputs": [],
   "source": [
    "# What is PyTorch?\n",
    "# PyTorch is a Python-based scientific computing package serving two broad purposes:\n",
    "# A replacement for NumPy to use the power of GPUs and other accelerators.\n",
    "# An automatic differentiation library that is useful to implement neural networks.\n",
    "\n",
    "#Tensors are similar to NumPy’s ndarrays, except that tensors can run on GPUs or \n",
    "#other specialized hardware to accelerate computing."
   ]
  },
  {
   "cell_type": "code",
   "execution_count": 2,
   "metadata": {},
   "outputs": [],
   "source": [
    "import torch\n",
    "import numpy as np"
   ]
  },
  {
   "cell_type": "code",
   "execution_count": 7,
   "metadata": {},
   "outputs": [
    {
     "data": {
      "text/plain": [
       "numpy.ndarray"
      ]
     },
     "execution_count": 7,
     "metadata": {},
     "output_type": "execute_result"
    }
   ],
   "source": [
    "data = [[1, 2], [3, 4]]\n",
    "np_array = np.array(data)\n",
    "type(nd_array)"
   ]
  },
  {
   "cell_type": "code",
   "execution_count": 8,
   "metadata": {},
   "outputs": [
    {
     "data": {
      "text/plain": [
       "torch.Tensor"
      ]
     },
     "execution_count": 8,
     "metadata": {},
     "output_type": "execute_result"
    }
   ],
   "source": [
    "#Tensors can be created directly from data. The data type is automatically inferred.\n",
    "tensor_data = torch.tensor(data)\n",
    "type(tensor_data)"
   ]
  },
  {
   "cell_type": "code",
   "execution_count": 9,
   "metadata": {},
   "outputs": [
    {
     "data": {
      "text/plain": [
       "tensor([[1, 2],\n",
       "        [3, 4]])"
      ]
     },
     "execution_count": 9,
     "metadata": {},
     "output_type": "execute_result"
    }
   ],
   "source": [
    "tensor_data"
   ]
  },
  {
   "cell_type": "code",
   "execution_count": 11,
   "metadata": {},
   "outputs": [
    {
     "data": {
      "text/plain": [
       "torch.Tensor"
      ]
     },
     "execution_count": 11,
     "metadata": {},
     "output_type": "execute_result"
    }
   ],
   "source": [
    "# From a NumPy array\n",
    "# Tensors can be created from NumPy arrays (and vice versa - see Bridge with NumPy).\n",
    "\n",
    "np_to_tensor = torch.from_numpy(np_array)\n",
    "type(np_to_tensor)"
   ]
  },
  {
   "cell_type": "code",
   "execution_count": 12,
   "metadata": {},
   "outputs": [
    {
     "data": {
      "text/plain": [
       "tensor([[1, 2],\n",
       "        [3, 4]], dtype=torch.int32)"
      ]
     },
     "execution_count": 12,
     "metadata": {},
     "output_type": "execute_result"
    }
   ],
   "source": [
    "np_to_tensor"
   ]
  },
  {
   "cell_type": "code",
   "execution_count": 14,
   "metadata": {},
   "outputs": [
    {
     "data": {
      "text/plain": [
       "tensor([[1, 1],\n",
       "        [1, 1]])"
      ]
     },
     "execution_count": 14,
     "metadata": {},
     "output_type": "execute_result"
    }
   ],
   "source": [
    "#torch.ones_like: Returns a tensor filled with the scalar value 1, with the same size as\n",
    "#input. torch.ones_like(input) is equivalent to torch.ones(input.size(), \n",
    "# dtype=input.dtype, layout=input.layout, device=input.device)\n",
    "\n",
    "tensor_of_values_1 = torch.ones_like(tensor_data) # retains the properties of tensor_data except the values\n",
    "tensor_of_values_1"
   ]
  },
  {
   "cell_type": "code",
   "execution_count": null,
   "metadata": {},
   "outputs": [
    {
     "data": {
      "text/plain": [
       "tensor([[0.1180, 0.2127],\n",
       "        [0.8474, 0.8221]])"
      ]
     },
     "execution_count": 16,
     "metadata": {},
     "output_type": "execute_result"
    }
   ],
   "source": [
    "# Returns a tensor with the same size as input that is filled with\n",
    "# random numbers from a uniform distribution on the interval [0, 1). \n",
    "# torch.rand_like(input) is equivalent to torch.rand(input.size(), \n",
    "# dtype=input.dtype, layout=input.layout, device=input.device).\n",
    "\n",
    "tensor_uf = torch.rand_like(tensor_data, dtype=torch.float) # overrides the datatype of x_data\n",
    "tensor_uf"
   ]
  },
  {
   "cell_type": "code",
   "execution_count": 21,
   "metadata": {},
   "outputs": [
    {
     "data": {
      "text/plain": [
       "tensor([[1., 1., 1., 1., 1.],\n",
       "        [1., 1., 1., 1., 1.],\n",
       "        [1., 1., 1., 1., 1.]])"
      ]
     },
     "execution_count": 21,
     "metadata": {},
     "output_type": "execute_result"
    }
   ],
   "source": [
    "# With random or constant values:\n",
    "\n",
    "# 'shape' is a tuple of tensor dimensions. In the functions below, it determines the dimensionality of the output tensor.\n",
    "shape = (3, 5)\n",
    "tensor_ones = torch.ones(shape)\n",
    "tensor_ones"
   ]
  },
  {
   "cell_type": "code",
   "execution_count": 22,
   "metadata": {},
   "outputs": [
    {
     "data": {
      "text/plain": [
       "tensor([0., 0., 0., 0.])"
      ]
     },
     "execution_count": 22,
     "metadata": {},
     "output_type": "execute_result"
    }
   ],
   "source": [
    "tensor_zeros = torch.zeros(4)\n",
    "tensor_zeros"
   ]
  },
  {
   "cell_type": "code",
   "execution_count": 25,
   "metadata": {},
   "outputs": [
    {
     "data": {
      "text/plain": [
       "tensor([[0.6645, 0.3298, 0.9968, 0.2958, 0.3101],\n",
       "        [0.8684, 0.7820, 0.3442, 0.9665, 0.6594],\n",
       "        [0.3402, 0.3210, 0.1342, 0.0169, 0.7498]])"
      ]
     },
     "execution_count": 25,
     "metadata": {},
     "output_type": "execute_result"
    }
   ],
   "source": [
    "# Returns a tensor filled with random numbers from a uniform distribution\n",
    "# on the interval [0, 1)\n",
    "# The shape of the tensor is defined by the variable argument size.\n",
    "\n",
    "tensor_random  = torch.rand(shape)\n",
    "tensor_random"
   ]
  },
  {
   "cell_type": "code",
   "execution_count": 26,
   "metadata": {},
   "outputs": [
    {
     "data": {
      "text/plain": [
       "tensor([[0.7584, 0.9668, 0.5933, 0.2479],\n",
       "        [0.1082, 0.4350, 0.0968, 0.1448]])"
      ]
     },
     "execution_count": 26,
     "metadata": {},
     "output_type": "execute_result"
    }
   ],
   "source": [
    "random_tensor = torch.rand(2, 4)\n",
    "random_tensor"
   ]
  },
  {
   "cell_type": "code",
   "execution_count": 31,
   "metadata": {},
   "outputs": [
    {
     "name": "stdout",
     "output_type": "stream",
     "text": [
      "Shape of tensor: torch.Size([2, 4])\n",
      "Datatype of tensor: torch.float32\n",
      "Device tensor is stored on: cpu\n"
     ]
    }
   ],
   "source": [
    "# Tensor Attributes\n",
    "# Tensor attributes describe their shape, datatype, and the device on which they are stored.\n",
    "\n",
    "print(f\"Shape of tensor: {random_tensor.shape}\")\n",
    "print(f\"Datatype of tensor: {random_tensor.dtype}\")\n",
    "print(f\"Device tensor is stored on: {random_tensor.device}\")"
   ]
  },
  {
   "cell_type": "code",
   "execution_count": 36,
   "metadata": {},
   "outputs": [
    {
     "name": "stdout",
     "output_type": "stream",
     "text": [
      "CUDA not available on machine\n",
      "Device tensor is stored on: cpu\n"
     ]
    }
   ],
   "source": [
    "# These tensor operations can be run on the GPU (at typically higher speeds than on a CPU). \n",
    "# If you’re using Colab, allocate a GPU by going to Edit > Notebook Settings. GPU is represented by CUDA!\n",
    "if torch.cuda.is_available():\n",
    "    random_tensor = random_tensor.to('cuda')\n",
    "    print(f\"Device tensor is stored on: {random_tensor.device}\")\n",
    "else:\n",
    "    print(\"CUDA not available on machine\")\n",
    "    print(f\"Device tensor is stored on: {random_tensor.device}\")"
   ]
  },
  {
   "cell_type": "code",
   "execution_count": 44,
   "metadata": {},
   "outputs": [
    {
     "data": {
      "text/plain": [
       "tensor([[1., 1., 1., 1., 1.],\n",
       "        [1., 1., 1., 1., 1.],\n",
       "        [1., 1., 1., 1., 1.],\n",
       "        [1., 1., 1., 1., 1.]])"
      ]
     },
     "execution_count": 44,
     "metadata": {},
     "output_type": "execute_result"
    }
   ],
   "source": [
    "a = torch.ones(4, 5)\n",
    "a"
   ]
  },
  {
   "cell_type": "code",
   "execution_count": 45,
   "metadata": {},
   "outputs": [
    {
     "data": {
      "text/plain": [
       "tensor([[1., 1., 0., 1., 1.],\n",
       "        [1., 1., 0., 1., 1.],\n",
       "        [1., 1., 0., 1., 1.],\n",
       "        [1., 1., 0., 1., 1.]])"
      ]
     },
     "execution_count": 45,
     "metadata": {},
     "output_type": "execute_result"
    }
   ],
   "source": [
    "# Standard numpy-like indexing and slicing:\n",
    "a[:, 2] = 0\n",
    "a"
   ]
  },
  {
   "cell_type": "code",
   "execution_count": 46,
   "metadata": {},
   "outputs": [
    {
     "data": {
      "text/plain": [
       "tensor([[1., 1., 0., 1., 1., 1., 1., 0., 1., 1., 1., 1., 0., 1., 1.],\n",
       "        [1., 1., 0., 1., 1., 1., 1., 0., 1., 1., 1., 1., 0., 1., 1.],\n",
       "        [1., 1., 0., 1., 1., 1., 1., 0., 1., 1., 1., 1., 0., 1., 1.],\n",
       "        [1., 1., 0., 1., 1., 1., 1., 0., 1., 1., 1., 1., 0., 1., 1.]])"
      ]
     },
     "execution_count": 46,
     "metadata": {},
     "output_type": "execute_result"
    }
   ],
   "source": [
    "# Joining tensors You can use torch.cat to concatenate a sequence of tensors \n",
    "# along a given dimension. See also torch.stack, another tensor joining op \n",
    "# that is subtly different from torch.cat.\n",
    "\n",
    "torch.cat((a, a, a), dim=1) #1 ---> columns"
   ]
  },
  {
   "cell_type": "code",
   "execution_count": 47,
   "metadata": {},
   "outputs": [
    {
     "data": {
      "text/plain": [
       "tensor([[1., 1., 0., 1., 1.],\n",
       "        [1., 1., 0., 1., 1.],\n",
       "        [1., 1., 0., 1., 1.],\n",
       "        [1., 1., 0., 1., 1.],\n",
       "        [1., 1., 0., 1., 1.],\n",
       "        [1., 1., 0., 1., 1.],\n",
       "        [1., 1., 0., 1., 1.],\n",
       "        [1., 1., 0., 1., 1.],\n",
       "        [1., 1., 0., 1., 1.],\n",
       "        [1., 1., 0., 1., 1.],\n",
       "        [1., 1., 0., 1., 1.],\n",
       "        [1., 1., 0., 1., 1.]])"
      ]
     },
     "execution_count": 47,
     "metadata": {},
     "output_type": "execute_result"
    }
   ],
   "source": [
    "torch.cat((a, a, a), dim=0) #0 ---> rows"
   ]
  },
  {
   "cell_type": "code",
   "execution_count": 62,
   "metadata": {},
   "outputs": [
    {
     "name": "stdout",
     "output_type": "stream",
     "text": [
      "Multiplication of tensor with itself: \n",
      "tensor([[1., 1., 0., 1., 1.],\n",
      "        [1., 1., 0., 1., 1.],\n",
      "        [1., 1., 0., 1., 1.],\n",
      "        [1., 1., 0., 1., 1.]])\n",
      "\n",
      "This is element-wise multiplication too:\n",
      " tensor([[1., 1., 0., 1., 1.],\n",
      "        [1., 1., 0., 1., 1.],\n",
      "        [1., 1., 0., 1., 1.],\n",
      "        [1., 1., 0., 1., 1.]])\n"
     ]
    }
   ],
   "source": [
    "#Multiplying tensors\n",
    "\n",
    "a.mul(a)\n",
    "print(f\"Multiplication of tensor with itself: \\n{a.mul(a)}\\n\")\n",
    "\n",
    "#Alternative syntax\n",
    "print(f\"This is element-wise multiplication too:\\n {a*a}\")"
   ]
  },
  {
   "cell_type": "code",
   "execution_count": 54,
   "metadata": {},
   "outputs": [
    {
     "data": {
      "text/plain": [
       "tensor([[1., 1., 1., 1.],\n",
       "        [1., 1., 1., 1.],\n",
       "        [0., 0., 0., 0.],\n",
       "        [1., 1., 1., 1.],\n",
       "        [1., 1., 1., 1.]])"
      ]
     },
     "execution_count": 54,
     "metadata": {},
     "output_type": "execute_result"
    }
   ],
   "source": [
    "a_transpose = a.T #Transpose of a tensor\n",
    "a_transpose"
   ]
  },
  {
   "cell_type": "code",
   "execution_count": 59,
   "metadata": {},
   "outputs": [
    {
     "name": "stdout",
     "output_type": "stream",
     "text": [
      "Matrix multiplication of 2 tensors: \n",
      " tensor([[4., 4., 4., 4.],\n",
      "        [4., 4., 4., 4.],\n",
      "        [4., 4., 4., 4.],\n",
      "        [4., 4., 4., 4.]])\n",
      "\n",
      "This is matrix multiplication too: \n",
      "tensor([[4., 4., 4., 4.],\n",
      "        [4., 4., 4., 4.],\n",
      "        [4., 4., 4., 4.],\n",
      "        [4., 4., 4., 4.]])\n"
     ]
    }
   ],
   "source": [
    "print(f\"Matrix multiplication of 2 tensors: \\n {a.matmul(a_transpose)}\\n\") #a(4,5) * a_transpose(5, 4)\n",
    "#Alternative syntax\n",
    "print(f\"This is matrix multiplication too: \\n{a @ a_transpose}\")"
   ]
  },
  {
   "cell_type": "code",
   "execution_count": 63,
   "metadata": {},
   "outputs": [
    {
     "data": {
      "text/plain": [
       "tensor([[1., 1., 1., 1., 1.],\n",
       "        [1., 1., 1., 1., 1.]])"
      ]
     },
     "execution_count": 63,
     "metadata": {},
     "output_type": "execute_result"
    }
   ],
   "source": [
    "b  = torch.ones(2, 5)\n",
    "b"
   ]
  },
  {
   "cell_type": "code",
   "execution_count": 79,
   "metadata": {},
   "outputs": [
    {
     "data": {
      "text/plain": [
       "tensor([[1., 1.],\n",
       "        [1., 1.],\n",
       "        [1., 1.],\n",
       "        [1., 1.],\n",
       "        [1., 1.]])"
      ]
     },
     "execution_count": 79,
     "metadata": {},
     "output_type": "execute_result"
    }
   ],
   "source": [
    "#In-place operations Operations that have a _ suffix are in-place. For example: x.copy_(y), x.t_(), will change x.\n",
    "\n",
    "b.t_() #Inplace transpose operation"
   ]
  },
  {
   "cell_type": "code",
   "execution_count": 83,
   "metadata": {},
   "outputs": [
    {
     "data": {
      "text/plain": [
       "tensor([[1., 1.],\n",
       "        [1., 1.],\n",
       "        [1., 1.],\n",
       "        [1., 1.],\n",
       "        [1., 1.]])"
      ]
     },
     "execution_count": 83,
     "metadata": {},
     "output_type": "execute_result"
    }
   ],
   "source": [
    "b"
   ]
  },
  {
   "cell_type": "code",
   "execution_count": 84,
   "metadata": {},
   "outputs": [
    {
     "data": {
      "text/plain": [
       "tensor([[5., 5.],\n",
       "        [5., 5.],\n",
       "        [5., 5.],\n",
       "        [5., 5.],\n",
       "        [5., 5.]])"
      ]
     },
     "execution_count": 84,
     "metadata": {},
     "output_type": "execute_result"
    }
   ],
   "source": [
    "b.add_(4) #inplace addition operation: Adding a tensr 'b' with scalar value"
   ]
  },
  {
   "cell_type": "code",
   "execution_count": 91,
   "metadata": {},
   "outputs": [
    {
     "data": {
      "text/plain": [
       "torch.Size([5, 2])"
      ]
     },
     "execution_count": 91,
     "metadata": {},
     "output_type": "execute_result"
    }
   ],
   "source": [
    "torch.tensor([1, 2, 3, 4, 5]).shape\n",
    "b.shape"
   ]
  },
  {
   "cell_type": "code",
   "execution_count": 92,
   "metadata": {},
   "outputs": [
    {
     "data": {
      "text/plain": [
       "tensor([[6., 7.],\n",
       "        [6., 7.],\n",
       "        [6., 7.],\n",
       "        [6., 7.],\n",
       "        [6., 7.]])"
      ]
     },
     "execution_count": 92,
     "metadata": {},
     "output_type": "execute_result"
    }
   ],
   "source": [
    "b.add_(torch.tensor([1, 2])) #inplace addition operation: Adding two tensors"
   ]
  },
  {
   "cell_type": "code",
   "execution_count": 98,
   "metadata": {},
   "outputs": [
    {
     "name": "stdout",
     "output_type": "stream",
     "text": [
      "Tensor: \n",
      "tensor([[1, 2, 3, 4],\n",
      "        [5, 6, 7, 8]])\n",
      "\n",
      "Numpy array: \n",
      "[[1 2 3 4]\n",
      " [5 6 7 8]]\n"
     ]
    }
   ],
   "source": [
    "# Bridge with NumPy\n",
    "# Tensors on the CPU and NumPy arrays can share their underlying memory locations, and changing one will change the other.\n",
    "\n",
    "# Tensor to NumPy array\n",
    "a = torch.tensor([[1, 2, 3, 4], [5, 6, 7, 8]])\n",
    "a_np = a.numpy()\n",
    "print(f\"Tensor: \\n{a}\\n\")\n",
    "print(f\"Numpy array: \\n{a_np}\")"
   ]
  },
  {
   "cell_type": "code",
   "execution_count": 100,
   "metadata": {},
   "outputs": [
    {
     "name": "stdout",
     "output_type": "stream",
     "text": [
      "Tensor: \n",
      "tensor([[2, 3, 4, 5],\n",
      "        [6, 7, 8, 9]])\n",
      "\n",
      "Numpy array: \n",
      "[[2 3 4 5]\n",
      " [6 7 8 9]]\n"
     ]
    }
   ],
   "source": [
    "#Due to sharing same location, a change in the tensor reflects in the NumPy array.\n",
    "a.add_(1) #Inplace addition\n",
    "print(f\"Tensor: \\n{a}\\n\")\n",
    "print(f\"Numpy array: \\n{a_np}\")"
   ]
  },
  {
   "cell_type": "code",
   "execution_count": 102,
   "metadata": {},
   "outputs": [
    {
     "data": {
      "text/plain": [
       "tensor(5, dtype=torch.int32)"
      ]
     },
     "execution_count": 102,
     "metadata": {},
     "output_type": "execute_result"
    }
   ],
   "source": [
    "b_np = np.array(5)\n",
    "b = torch.from_numpy(b_np)\n",
    "b"
   ]
  },
  {
   "cell_type": "code",
   "execution_count": 105,
   "metadata": {},
   "outputs": [
    {
     "data": {
      "text/plain": [
       "array(6)"
      ]
     },
     "execution_count": 105,
     "metadata": {},
     "output_type": "execute_result"
    }
   ],
   "source": [
    "#Addition of numpy array wth scaler value 1. 'out' denotes the output of addition to be stored in\n",
    "np.add(b_np, 1, out =b_np) "
   ]
  },
  {
   "cell_type": "code",
   "execution_count": 107,
   "metadata": {},
   "outputs": [
    {
     "name": "stdout",
     "output_type": "stream",
     "text": [
      "Numpy array: \n",
      "6\n",
      "Tensor: \n",
      "6\n",
      "\n"
     ]
    }
   ],
   "source": [
    "#Changes in the NumPy array reflects in the tensor.\n",
    "print(f\"Numpy array: \\n{b_np}\")\n",
    "print(f\"Tensor: \\n{b}\\n\")\n"
   ]
  },
  {
   "cell_type": "code",
   "execution_count": null,
   "metadata": {},
   "outputs": [],
   "source": []
  }
 ],
 "metadata": {
  "kernelspec": {
   "display_name": "AI",
   "language": "python",
   "name": "python3"
  },
  "language_info": {
   "codemirror_mode": {
    "name": "ipython",
    "version": 3
   },
   "file_extension": ".py",
   "mimetype": "text/x-python",
   "name": "python",
   "nbconvert_exporter": "python",
   "pygments_lexer": "ipython3",
   "version": "3.12.3"
  }
 },
 "nbformat": 4,
 "nbformat_minor": 2
}
